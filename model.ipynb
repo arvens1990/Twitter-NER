{
 "metadata": {
  "language_info": {
   "codemirror_mode": {
    "name": "ipython",
    "version": 3
   },
   "file_extension": ".py",
   "mimetype": "text/x-python",
   "name": "python",
   "nbconvert_exporter": "python",
   "pygments_lexer": "ipython3",
   "version": "3.8.2"
  },
  "orig_nbformat": 2,
  "kernelspec": {
   "name": "python382jvsc74a57bd013a6df2878ffd809ac47653ae3c7f040fd0a6dfa13836e45576dd964432ae382",
   "display_name": "Python 3.8.2 64-bit ('final-arvens1990': virtualenvwrapper)"
  }
 },
 "nbformat": 4,
 "nbformat_minor": 2,
 "cells": [
  {
   "cell_type": "code",
   "execution_count": 1,
   "metadata": {},
   "outputs": [
    {
     "output_type": "stream",
     "name": "stderr",
     "text": [
      "Special tokens have been added in the vocabulary, make sure the associated word embedding are fine-tuned or trained.\n"
     ]
    }
   ],
   "source": [
    "import torch\n",
    "import numpy as np\n",
    "import pandas as pd\n",
    "import emoji\n",
    "import torch\n",
    "from transformers import AutoModel, AutoTokenizer, BertweetTokenizer\n",
    "\n",
    "\n",
    "# load model and tokenizer\n",
    "bertweet = AutoModel.from_pretrained(\"vinai/bertweet-base\")\n",
    "tokenizer = BertweetTokenizer.from_pretrained(\"vinai/bertweet-base\", normalization=True)\n",
    "\n",
    "#load data\n",
    "def load_data(filename: str):\n",
    "    with open(filename, 'r') as file:\n",
    "        lines = [line[:-1].split() for line in file]\n",
    "    samples, start = [], 0\n",
    "    for end, parts in enumerate(lines):\n",
    "        if not parts:\n",
    "            sample = [(token, tag.split('-')[-1]) for token, tag in lines[start:end]]\n",
    "            samples.append(sample)\n",
    "            start = end + 1\n",
    "    if start < end:\n",
    "        samples.append(lines[start:end])\n",
    "    return samples\n",
    "  \n",
    "# load data\n",
    "train_samples = load_data('data/train/train.txt')\n",
    "val_samples = load_data('data/dev/dev.txt')\n",
    "samples = train_samples + val_samples\n",
    "schema = ['_'] + sorted({tag for sentence in samples for _, tag in sentence})"
   ]
  },
  {
   "cell_type": "code",
   "execution_count": 10,
   "metadata": {},
   "outputs": [
    {
     "output_type": "stream",
     "name": "stderr",
     "text": [
      "2394it [00:06, 391.76it/s]\n",
      "959it [00:01, 558.93it/s]\n"
     ]
    }
   ],
   "source": [
    "import numpy as np\n",
    "from tqdm import tqdm\n",
    "\n",
    "def tokenize_sample(sample):\n",
    "    seq = [\n",
    "               (subtoken, tag)\n",
    "               for token, tag in sample\n",
    "               for subtoken in tokenizer(token)['input_ids'][1:-1]\n",
    "           ]\n",
    "    return [(3, 'O')] + seq + [(4, 'O')]\n",
    "\n",
    "def preprocess(samples):\n",
    "    tag_index = {tag: i for i, tag in enumerate(schema)}\n",
    "    tokenized_samples = list(tqdm(map(tokenize_sample, samples)))\n",
    "    max_len = max(map(len, tokenized_samples))\n",
    "    X = np.zeros((len(samples), max_len), dtype=np.int32)\n",
    "    y = np.zeros((len(samples), max_len), dtype=np.int32)\n",
    "    for i, sentence in enumerate(tokenized_samples):\n",
    "        for j, (subtoken_id, tag) in enumerate(sentence):\n",
    "            X[i, j] = subtoken_id\n",
    "            y[i,j] = tag_index[tag]\n",
    "    return X, y\n",
    "\n",
    "X_train, y_train = preprocess(train_samples)\n",
    "X_val, y_val = preprocess(val_samples)"
   ]
  },
  {
   "cell_type": "code",
   "execution_count": 12,
   "metadata": {},
   "outputs": [
    {
     "output_type": "execute_result",
     "data": {
      "text/plain": [
       "numpy.ndarray"
      ]
     },
     "metadata": {},
     "execution_count": 12
    }
   ],
   "source": []
  }
 ]
}